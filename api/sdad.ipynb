{
 "cells": [
  {
   "cell_type": "code",
   "execution_count": 5,
   "metadata": {},
   "outputs": [],
   "source": [
    "import requests, json\n",
    "from time import localtime, time\n",
    "from pprint import pprint\n",
    "import pandas_datareader as pdr\n",
    "print == pprint\n",
    "pprint == print\n",
    "from key_Alpha import chave_alpha,chave_brapi"
   ]
  },
  {
   "cell_type": "code",
   "execution_count": 14,
   "metadata": {},
   "outputs": [
    {
     "name": "stdout",
     "output_type": "stream",
     "text": [
      "{'results': [{'currency': 'BRL', 'shortName': 'B3          ON      NM', 'longName': 'B3 S.A. - Brasil, Bolsa, Balcão', 'regularMarketChange': 0.04, 'regularMarketChangePercent': 0.36, 'regularMarketTime': '2024-05-24T19:32:04.000Z', 'regularMarketPrice': 11.15, 'regularMarketDayHigh': 11.22, 'regularMarketDayRange': '11.01 - 11.22', 'regularMarketDayLow': 11.01, 'regularMarketVolume': 20405300, 'regularMarketPreviousClose': 11.11, 'regularMarketOpen': 11.25, 'fiftyTwoWeekRange': '11.01 - 11.22', 'fiftyTwoWeekLow': 11.01, 'fiftyTwoWeekHigh': 11.22, 'symbol': 'B3SA3', 'usedInterval': '1d', 'usedRange': '5d', 'historicalDataPrice': [{'date': 1716210000, 'open': 11.27, 'high': 11.5, 'low': 11.17, 'close': 11.43, 'volume': 44273000, 'adjustedClose': 11.43}, {'date': 1716296400, 'open': 11.28, 'high': 11.5, 'low': 11.28, 'close': 11.41, 'volume': 33561200, 'adjustedClose': 11.41}, {'date': 1716382800, 'open': 11.29, 'high': 11.38, 'low': 11.05, 'close': 11.06, 'volume': 57305300, 'adjustedClose': 11.06}, {'date': 1716469200, 'open': 11.05, 'high': 11.26, 'low': 10.93, 'close': 11.11, 'volume': 54028500, 'adjustedClose': 11.11}, {'date': 1716579124, 'open': 11.08, 'high': 11.22, 'low': 11.01, 'close': 11.15, 'volume': 20405300, 'adjustedClose': 11.15}], 'validRanges': ['1d', '2d', '5d', '7d', '1mo', '3mo', '6mo', '1y', '2y', '5y', '10y', 'ytd', 'max'], 'validIntervals': ['1m', '2m', '5m', '15m', '30m', '60m', '90m', '1h', '1d', '5d', '1wk', '1mo', '3mo'], 'summaryProfile': {'address1': 'PraCa Antonio Prado, 48', 'address2': 'Rua XV de Novembro, 275 Centro', 'city': 'São Paulo', 'state': 'SP', 'zip': '18970-020', 'country': 'Brazil', 'website': 'https://www.b3.com.br', 'industry': 'Financial Data & Stock Exchanges', 'industryKey': 'financial-data-stock-exchanges', 'industryDisp': 'Financial Data & Stock Exchanges', 'sector': 'Financial Services', 'sectorKey': 'financial-services', 'sectorDisp': 'Financial Services', 'longBusinessSummary': 'B3 S.A. - Brasil, Bolsa, Balcão, a financial market infrastructure company, provides trading services in an exchange and OTC environment. It operates through Listed; OTC; Infrastructure for Financing; and Technology, Data and Service segments. The company offers listed equities and securities for anhydrous fuel ethanol, Arabica coffee 4/5 and 6/7, corn, crystal sugar, gold, hydrous ethanol, live cattle, and soybean commodities; ETF and sovereign debt instruments; and exchange rates, interest rates, and equities, as well as collateral management products. It also provides OTC derivatives; decarbonization credit, derivatives contracted abroad, and B3 electricity platform; OTC market products, as well as agribusiness, banking funding, bonds, mortgage, securities registration, treasury bond, and other financial securities; registration services for structured transaction certificates; and netting agreement and ESG, as well as clearing and settlement services. In addition, the company offers trading participant; central depository; broad, corporate governance, segment, sustainability, sector, and other indices, as well as indices in partnership with S&P DowJones; and Tesouro Direto, an alternative investment product. Further, it provides market data services that include services related to quotes, distributors, historical data, and reports; UP2DATA, DATAWISE, and UP2DATA ON DEMAND data services; and financing market information services. Additionally, the company offers various platforms, such as PUMA trading system, trading interface, InsurConnect, Middle and backoffice, Risk Management \\x96 LINE, Real Estate Market Collateral, and Risk Management \\x96 Financing; connectivity; and hosting and colocation services. The company was formerly known as BM&FBOVESPA S.A. - Bolsa de Valores, Mercadorias e Futuros and changed its name to B3 S.A. - Brasil, Bolsa, Balcão in June 2017. The company was incorporated in 2007 and is headquartered in São Paulo, Brazil.', 'companyOfficers': []}, 'priceEarnings': 15.97938144329897, 'earningsPerShare': 0.702749, 'logourl': 'https://s3-symbol-logo.tradingview.com/b3-on-nm--big.svg'}], 'requestedAt': '2024-05-24T19:47:06.403Z', 'took': '0ms'}\n"
     ]
    }
   ],
   "source": [
    "nome_na_bolsa={\n",
    "    'b3':\t'B3SA3',\n",
    "    'banco do brasil':\t'BBAS3',\n",
    "    'bradesco':\t'BBDC4',\n",
    "    'itau':\t'ITUB4',\n",
    "    'banco do brasil':'\tBBAS3',\n",
    "}\n",
    "\n",
    "\n",
    "banco = input('banco: ').lower()\n",
    "if banco in nome_na_bolsa:\n",
    "    bolsa = nome_na_bolsa[banco].lower()\n",
    "    api = f'https://brapi.dev/api/quote/{bolsa}?range=5d&interval=1d&modules=summaryProfile&token={chave_brapi}'\n",
    "    dados = requests.get(api).json()\n",
    "    print(dados)\n",
    "else:\n",
    "    print('cu')"
   ]
  },
  {
   "cell_type": "code",
   "execution_count": null,
   "metadata": {},
   "outputs": [],
   "source": [
    "import requests, json\n",
    "from time import localtime, time\n",
    "from pprint import pprint\n",
    "import pandas_datareader as pdr\n",
    "print == pprint\n",
    "pprint == print\n",
    "from key_Alpha import chave_alpha,chave_brapi"
   ]
  },
  {
   "cell_type": "code",
   "execution_count": 7,
   "metadata": {},
   "outputs": [
    {
     "data": {
      "text/plain": [
       "'https://brapi.dev/api/B3SA3?token=7Ne5a7rHV15svQznZcGAES'"
      ]
     },
     "execution_count": 7,
     "metadata": {},
     "output_type": "execute_result"
    }
   ],
   "source": [
    "api"
   ]
  }
 ],
 "metadata": {
  "kernelspec": {
   "display_name": "Python 3",
   "language": "python",
   "name": "python3"
  },
  "language_info": {
   "codemirror_mode": {
    "name": "ipython",
    "version": 3
   },
   "file_extension": ".py",
   "mimetype": "text/x-python",
   "name": "python",
   "nbconvert_exporter": "python",
   "pygments_lexer": "ipython3",
   "version": "3.11.9"
  },
  "orig_nbformat": 4,
  "vscode": {
   "interpreter": {
    "hash": "18632899b420783ac2391388f7f979aed5de9d6d51f0a0b09ac30bc72c911612"
   }
  }
 },
 "nbformat": 4,
 "nbformat_minor": 2
}
