{
 "cells": [
  {
   "cell_type": "code",
   "execution_count": 47,
   "metadata": {},
   "outputs": [],
   "source": [
    "import requests, json\n",
    "from time import localtime, time\n",
    "from pprint import pprint\n",
    "import pandas_datareader as pdr\n",
    "print == pprint\n",
    "pprint == print\n",
    "from key_Alpha import chave_alpha,chave_brapi\n",
    "from deep_translator import GoogleTranslator\n",
    "import PIL.Image as pil\n"
   ]
  },
  {
   "cell_type": "code",
   "execution_count": 30,
   "metadata": {},
   "outputs": [
    {
     "name": "stdout",
     "output_type": "stream",
     "text": [
      "{'results': [{'currency': 'BRL', 'shortName': 'BRASIL      ON      NM', 'longName': 'Banco do Brasil S.A.', 'regularMarketChange': 0.33, 'regularMarketChangePercent': 1.2189999999999999, 'regularMarketTime': '2024-05-27T20:07:41.000Z', 'regularMarketPrice': 27.41, 'regularMarketDayHigh': 27.47, 'regularMarketDayRange': '27.08 - 27.47', 'regularMarketDayLow': 27.08, 'regularMarketVolume': 31265200, 'regularMarketPreviousClose': 27.08, 'regularMarketOpen': 28.03, 'fiftyTwoWeekRange': '27.08 - 27.47', 'fiftyTwoWeekLow': 27.08, 'fiftyTwoWeekHigh': 27.47, 'symbol': 'BBAS3', 'summaryProfile': {'address1': 'EdifIcio Banco do Brasil', 'address2': 'Quadra 5, Lote B Autarquias Norte Federal District', 'city': 'Brasília', 'state': 'DF', 'country': 'Brazil', 'phone': '55 80 0729 5285', 'website': 'https://www.bb.com.br', 'industry': 'Banks - Regional', 'industryKey': 'banks-regional', 'industryDisp': 'Banks - Regional', 'sector': 'Financial Services', 'sectorKey': 'financial-services', 'sectorDisp': 'Financial Services', 'longBusinessSummary': 'Banco do Brasil S.A., together with its subsidiaries, provides banking products and services for individuals, companies, and public sectors in Brazil and internationally. The company operates through Banking; Investments; Resource Management; Insurance, Pension, and Capitalization; Payments Method; and Other segments. The Banking segment offers various products and services, including deposits, credit operations, and other services to retail, wholesale, and government markets, as well as to micro-entrepreneurs and informal sectors. The Investments segment engages in the domestic capital markets, intermediation and distribution of debts and equity instruments in primary and secondary capital markets; and provision of financial services. The Resource Management segment engages in the purchase, sale, and custody of bonds and securities, as well as the portfolio management and administration of funds and investment clubs. The Insurance, Pension, and Capitalization segment provides life, property, and automobile insurance products, as well as supplementary pension and capitalization plans. The Payments Method segment is involved in the capturing, transmission, processing, and financial settlement for electronic transactions. The Other segment engages in the provision of credit recovery and consortium management services; development, manufacturing, sale, rental, and integration of digital electronic equipment and systems, peripherals, programs, inputs, and computing supplies. The company was incorporated in 1808 and is headquartered in Brasília, Brazil.', 'companyOfficers': []}, 'priceEarnings': 4.093305258127622, 'earningsPerShare': 5.2313221, 'logourl': 'https://s3-symbol-logo.tradingview.com/banco-do-brasil--big.svg'}], 'requestedAt': '2024-05-27T21:16:45.231Z', 'took': '0ms'}\n"
     ]
    }
   ],
   "source": [
    "nome_na_bolsa={\n",
    "    'b3':\t'B3SA3',\n",
    "    'banco do brasil':\t'BBAS3',\n",
    "    'bradesco':\t'BBDC4',\n",
    "    'itau':\t'ITUB4',\n",
    "    'banco do brasil':'BBAS3',\n",
    "}\n",
    "\n",
    "\n",
    "banco = input('banco: ').lower()\n",
    "if banco in nome_na_bolsa:\n",
    "    bolsa = nome_na_bolsa[banco].lower()\n",
    "    api = f'https://brapi.dev/api/quote/{bolsa}?&modules=summaryProfile&token={chave_brapi}'\n",
    "    dados = requests.get(api).json()\n",
    "    print(dados)\n",
    "else:\n",
    "    print('cu')"
   ]
  },
  {
   "cell_type": "code",
   "execution_count": 46,
   "metadata": {},
   "outputs": [
    {
     "name": "stdout",
     "output_type": "stream",
     "text": [
      "nome:  Banco do Brasil S.A.\n",
      "preço: R$  27.41\n",
      "o maior preço do dia: R$ 27.47\n",
      "o menor valor do dia: R$ 27.08\n",
      "numero total de ações:  31265200\n",
      "símbolo:  BBAS3\n",
      "endereço:  EdifIcio Banco do Brasil ; Quadra 5, Lote B Autarquias Norte Federal District\n",
      "Localizado: Brasília, DF, Brazil\n",
      "telefone:  55 80 0729 5285\n",
      "site:  https://www.bb.com.br\n"
     ]
    }
   ],
   "source": [
    "print(\"nome: \", dados['results'][0]['longName'])\n",
    "print(\"preço: R$ \", dados['results'][0]['regularMarketPrice'])\n",
    "print(\"o maior preço do dia: R$\", dados['results'][0]['regularMarketDayHigh'])\n",
    "print(\"o menor valor do dia: R$\", dados['results'][0]['regularMarketDayLow'])\n",
    "print(\"numero total de ações: \", dados['results'][0]['regularMarketVolume'])\n",
    "print(\"símbolo: \", dados['results'][0]['symbol'])\n",
    "print('endereço: ',dados['results'][0]['summaryProfile']['address1'],';',dados['results'][0]['summaryProfile']['address2'])\n",
    "print(f\"Localizado: {dados['results'][0]['summaryProfile']['city']}, {dados['results'][0]['summaryProfile']['state']}, {dados['results'][0]['summaryProfile']['country']}\")\n",
    "print('telefone: ',dados['results'][0]['summaryProfile']['phone'])\n",
    "print('site: ',dados['results'][0]['summaryProfile']['website'])"
   ]
  },
  {
   "cell_type": "code",
   "execution_count": null,
   "metadata": {},
   "outputs": [],
   "source": [
    "print(\": \", dados['results'][0][''])\n",
    "print(': ',dados['results'][0]['summaryProfile'][''])"
   ]
  },
  {
   "cell_type": "code",
   "execution_count": 4,
   "metadata": {},
   "outputs": [],
   "source": [
    "import requests, json\n",
    "from time import localtime, time\n",
    "from pprint import pprint\n",
    "import pandas_datareader as pdr\n",
    "print == pprint\n",
    "pprint == print\n",
    "from key_Alpha import chave_alpha,chave_brapi"
   ]
  },
  {
   "cell_type": "code",
   "execution_count": 49,
   "metadata": {},
   "outputs": [
    {
     "ename": "AttributeError",
     "evalue": "'Response' object has no attribute 'read'",
     "output_type": "error",
     "traceback": [
      "\u001b[1;31m---------------------------------------------------------------------------\u001b[0m",
      "\u001b[1;31mAttributeError\u001b[0m                            Traceback (most recent call last)",
      "File \u001b[1;32m~\\AppData\\Local\\Packages\\PythonSoftwareFoundation.Python.3.11_qbz5n2kfra8p0\\LocalCache\\local-packages\\Python311\\site-packages\\PIL\\Image.py:3281\u001b[0m, in \u001b[0;36mopen\u001b[1;34m(fp, mode, formats)\u001b[0m\n\u001b[0;32m   3280\u001b[0m \u001b[39mtry\u001b[39;00m:\n\u001b[1;32m-> 3281\u001b[0m     fp\u001b[39m.\u001b[39;49mseek(\u001b[39m0\u001b[39m)\n\u001b[0;32m   3282\u001b[0m \u001b[39mexcept\u001b[39;00m (\u001b[39mAttributeError\u001b[39;00m, io\u001b[39m.\u001b[39mUnsupportedOperation):\n",
      "\u001b[1;31mAttributeError\u001b[0m: 'Response' object has no attribute 'seek'",
      "\nDuring handling of the above exception, another exception occurred:\n",
      "\u001b[1;31mAttributeError\u001b[0m                            Traceback (most recent call last)",
      "Cell \u001b[1;32mIn[49], line 1\u001b[0m\n\u001b[1;32m----> 1\u001b[0m img \u001b[39m=\u001b[39m pil\u001b[39m.\u001b[39;49mopen(requests\u001b[39m.\u001b[39;49mget(\u001b[39m'\u001b[39;49m\u001b[39mhttps://s3-symbol-logo.tradingview.com/banco-do-brasil--big.svg\u001b[39;49m\u001b[39m'\u001b[39;49m))\n\u001b[0;32m      2\u001b[0m display(img)\n",
      "File \u001b[1;32m~\\AppData\\Local\\Packages\\PythonSoftwareFoundation.Python.3.11_qbz5n2kfra8p0\\LocalCache\\local-packages\\Python311\\site-packages\\PIL\\Image.py:3283\u001b[0m, in \u001b[0;36mopen\u001b[1;34m(fp, mode, formats)\u001b[0m\n\u001b[0;32m   3281\u001b[0m     fp\u001b[39m.\u001b[39mseek(\u001b[39m0\u001b[39m)\n\u001b[0;32m   3282\u001b[0m \u001b[39mexcept\u001b[39;00m (\u001b[39mAttributeError\u001b[39;00m, io\u001b[39m.\u001b[39mUnsupportedOperation):\n\u001b[1;32m-> 3283\u001b[0m     fp \u001b[39m=\u001b[39m io\u001b[39m.\u001b[39mBytesIO(fp\u001b[39m.\u001b[39;49mread())\n\u001b[0;32m   3284\u001b[0m     exclusive_fp \u001b[39m=\u001b[39m \u001b[39mTrue\u001b[39;00m\n\u001b[0;32m   3286\u001b[0m prefix \u001b[39m=\u001b[39m fp\u001b[39m.\u001b[39mread(\u001b[39m16\u001b[39m)\n",
      "\u001b[1;31mAttributeError\u001b[0m: 'Response' object has no attribute 'read'"
     ]
    }
   ],
   "source": []
  },
  {
   "cell_type": "code",
   "execution_count": 7,
   "metadata": {},
   "outputs": [
    {
     "data": {
      "text/plain": [
       "'https://brapi.dev/api/B3SA3?token=7Ne5a7rHV15svQznZcGAES'"
      ]
     },
     "execution_count": 7,
     "metadata": {},
     "output_type": "execute_result"
    }
   ],
   "source": [
    "api"
   ]
  },
  {
   "cell_type": "code",
   "execution_count": 32,
   "metadata": {},
   "outputs": [
    {
     "data": {
      "text/plain": [
       "'Banco do Brasil S.A., together with its subsidiaries, provides banking products and services for individuals, companies, and public sectors in Brazil and internationally. The company operates through Banking; Investments; Resource Management; Insurance, Pension, and Capitalization; Payments Method; and Other segments. The Banking segment offers various products and services, including deposits, credit operations, and other services to retail, wholesale, and government markets, as well as to micro-entrepreneurs and informal sectors. The Investments segment engages in the domestic capital markets, intermediation and distribution of debts and equity instruments in primary and secondary capital markets; and provision of financial services. The Resource Management segment engages in the purchase, sale, and custody of bonds and securities, as well as the portfolio management and administration of funds and investment clubs. The Insurance, Pension, and Capitalization segment provides life, property, and automobile insurance products, as well as supplementary pension and capitalization plans. The Payments Method segment is involved in the capturing, transmission, processing, and financial settlement for electronic transactions. The Other segment engages in the provision of credit recovery and consortium management services; development, manufacturing, sale, rental, and integration of digital electronic equipment and systems, peripherals, programs, inputs, and computing supplies. The company was incorporated in 1808 and is headquartered in Brasília, Brazil.'"
      ]
     },
     "execution_count": 32,
     "metadata": {},
     "output_type": "execute_result"
    }
   ],
   "source": [
    "dados['results'][0]['summaryProfile']['longBusinessSummary']"
   ]
  },
  {
   "cell_type": "code",
   "execution_count": 31,
   "metadata": {},
   "outputs": [
    {
     "name": "stdout",
     "output_type": "stream",
     "text": [
      "O Banco do Brasil S.A., em conjunto com suas subsidiárias, fornece produtos e serviços bancários para pessoas físicas, jurídicas e setores públicos no Brasil e internacionalmente. A empresa opera através do Banco; Investimentos; Gestão de recursos; Seguros, Previdência e Capitalização; Forma de Pagamento; e Outros segmentos. O segmento Bancário oferece diversos produtos e serviços, incluindo depósitos, operações de crédito e outros serviços para os mercados varejista, atacadista e governamental, bem como para microempreendedores e setores informais. O segmento de Investimentos atua no mercado de capitais nacional, intermediação e distribuição de dívidas e instrumentos patrimoniais em mercados de capitais primários e secundários; e prestação de serviços financeiros. O segmento de Gestão de Recursos atua na compra, venda e custódia de títulos e valores mobiliários, bem como na gestão de carteiras e administração de fundos e clubes de investimento. O segmento de Seguros, Previdência e Capitalização oferece produtos de seguros de vida, patrimonial e automóvel, além de planos de previdência complementar e capitalização. O segmento Meios de Pagamento atua na captura, transmissão, processamento e liquidação financeira de transações eletrônicas. O segmento Outros atua na prestação de serviços de recuperação de crédito e administração de consórcios; desenvolvimento, fabricação, venda, aluguel e integração de equipamentos e sistemas eletrônicos digitais, periféricos, programas, insumos e suprimentos de informática. A empresa foi constituída em 1808 e está sediada em Brasília, Brasil.\n"
     ]
    }
   ],
   "source": [
    "\n",
    "tradutor = GoogleTranslator(source= \"en\", target= \"pt\")\n",
    "texto = dados['results'][0]['summaryProfile']['longBusinessSummary']\n",
    "traducao = tradutor.translate(texto)\n",
    "\n",
    "print(traducao)"
   ]
  }
 ],
 "metadata": {
  "kernelspec": {
   "display_name": "Python 3",
   "language": "python",
   "name": "python3"
  },
  "language_info": {
   "codemirror_mode": {
    "name": "ipython",
    "version": 3
   },
   "file_extension": ".py",
   "mimetype": "text/x-python",
   "name": "python",
   "nbconvert_exporter": "python",
   "pygments_lexer": "ipython3",
   "version": "3.11.9"
  },
  "orig_nbformat": 4,
  "vscode": {
   "interpreter": {
    "hash": "18632899b420783ac2391388f7f979aed5de9d6d51f0a0b09ac30bc72c911612"
   }
  }
 },
 "nbformat": 4,
 "nbformat_minor": 2
}
