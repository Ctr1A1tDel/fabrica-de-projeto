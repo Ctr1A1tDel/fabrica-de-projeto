{
 "cells": [
  {
   "cell_type": "code",
   "execution_count": 1,
   "metadata": {},
   "outputs": [],
   "source": [
    "from dados import nome_na_bolsa\n",
    "import pandas as pd"
   ]
  },
  {
   "cell_type": "code",
   "execution_count": 2,
   "metadata": {},
   "outputs": [],
   "source": [
    "import yfinance as yf\n",
    "\n",
    "petro  = yf.Ticker('PETR4.SA').history(period='36mo')\n",
    "\n"
   ]
  },
  {
   "cell_type": "code",
   "execution_count": null,
   "metadata": {},
   "outputs": [],
   "source": [
    "df1 = pd.DataFrame()\n",
    "contador = 0\n",
    "datas = []\n",
    "for ativo in nome_na_bolsa:\n",
    "    ativo = f'{nome_na_bolsa[ativo]}.SA'\n",
    "    chamada_api = yf.Ticker(ativo).history(period='36mo')\n",
    "    closes = chamada_api['Close'].values\n",
    "    df1[ativo] = closes\n",
    "    if contador == 0:\n",
    "        contador += 1\n",
    "        datas\n",
    "df1"
   ]
  },
  {
   "cell_type": "code",
   "execution_count": null,
   "metadata": {},
   "outputs": [],
   "source": []
  }
 ],
 "metadata": {
  "kernelspec": {
   "display_name": "Python 3",
   "language": "python",
   "name": "python3"
  },
  "language_info": {
   "codemirror_mode": {
    "name": "ipython",
    "version": 3
   },
   "file_extension": ".py",
   "mimetype": "text/x-python",
   "name": "python",
   "nbconvert_exporter": "python",
   "pygments_lexer": "ipython3",
   "version": "3.11.9"
  },
  "orig_nbformat": 4,
  "vscode": {
   "interpreter": {
    "hash": "18632899b420783ac2391388f7f979aed5de9d6d51f0a0b09ac30bc72c911612"
   }
  }
 },
 "nbformat": 4,
 "nbformat_minor": 2
}
